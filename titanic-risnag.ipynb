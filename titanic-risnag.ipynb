{
 "cells": [
  {
   "cell_type": "code",
   "execution_count": 1,
   "id": "9534334f",
   "metadata": {
    "_cell_guid": "b1076dfc-b9ad-4769-8c92-a6c4dae69d19",
    "_uuid": "8f2839f25d086af736a60e9eeb907d3b93b6e0e5",
    "execution": {
     "iopub.execute_input": "2024-03-01T17:23:57.591108Z",
     "iopub.status.busy": "2024-03-01T17:23:57.590667Z",
     "iopub.status.idle": "2024-03-01T17:23:58.577327Z",
     "shell.execute_reply": "2024-03-01T17:23:58.575957Z"
    },
    "papermill": {
     "duration": 0.995738,
     "end_time": "2024-03-01T17:23:58.579929",
     "exception": false,
     "start_time": "2024-03-01T17:23:57.584191",
     "status": "completed"
    },
    "tags": []
   },
   "outputs": [
    {
     "name": "stdout",
     "output_type": "stream",
     "text": [
      "/kaggle/input/titanic/train.csv\n",
      "/kaggle/input/titanic/test.csv\n",
      "/kaggle/input/titanic/gender_submission.csv\n"
     ]
    }
   ],
   "source": [
    "import numpy as np\n",
    "import pandas as pd\n",
    "\n",
    "import os\n",
    "for dirname, _, filenames in os.walk('/kaggle/input'):\n",
    "    for filename in filenames:\n",
    "        print(os.path.join(dirname, filename))"
   ]
  },
  {
   "cell_type": "code",
   "execution_count": 2,
   "id": "1e8a8017",
   "metadata": {
    "execution": {
     "iopub.execute_input": "2024-03-01T17:23:58.591243Z",
     "iopub.status.busy": "2024-03-01T17:23:58.590483Z",
     "iopub.status.idle": "2024-03-01T17:23:58.624206Z",
     "shell.execute_reply": "2024-03-01T17:23:58.622491Z"
    },
    "papermill": {
     "duration": 0.042208,
     "end_time": "2024-03-01T17:23:58.626895",
     "exception": false,
     "start_time": "2024-03-01T17:23:58.584687",
     "status": "completed"
    },
    "tags": []
   },
   "outputs": [],
   "source": [
    "train = pd.read_csv('/kaggle/input/titanic/train.csv')\n",
    "test = pd.read_csv('/kaggle/input/titanic/test.csv')\n",
    "gender = pd.read_csv('/kaggle/input/titanic/gender_submission.csv')"
   ]
  },
  {
   "cell_type": "code",
   "execution_count": 3,
   "id": "eeaf3caf",
   "metadata": {
    "execution": {
     "iopub.execute_input": "2024-03-01T17:23:58.636963Z",
     "iopub.status.busy": "2024-03-01T17:23:58.636630Z",
     "iopub.status.idle": "2024-03-01T17:23:58.644331Z",
     "shell.execute_reply": "2024-03-01T17:23:58.643237Z"
    },
    "papermill": {
     "duration": 0.015002,
     "end_time": "2024-03-01T17:23:58.646410",
     "exception": false,
     "start_time": "2024-03-01T17:23:58.631408",
     "status": "completed"
    },
    "tags": []
   },
   "outputs": [
    {
     "data": {
      "text/plain": [
       "Index(['PassengerId', 'Survived', 'Pclass', 'Name', 'Sex', 'Age', 'SibSp',\n",
       "       'Parch', 'Ticket', 'Fare', 'Cabin', 'Embarked'],\n",
       "      dtype='object')"
      ]
     },
     "execution_count": 3,
     "metadata": {},
     "output_type": "execute_result"
    }
   ],
   "source": [
    "train.columns"
   ]
  },
  {
   "cell_type": "code",
   "execution_count": 4,
   "id": "6c5e9c16",
   "metadata": {
    "execution": {
     "iopub.execute_input": "2024-03-01T17:23:58.657099Z",
     "iopub.status.busy": "2024-03-01T17:23:58.656768Z",
     "iopub.status.idle": "2024-03-01T17:23:58.668826Z",
     "shell.execute_reply": "2024-03-01T17:23:58.667856Z"
    },
    "papermill": {
     "duration": 0.019767,
     "end_time": "2024-03-01T17:23:58.670812",
     "exception": false,
     "start_time": "2024-03-01T17:23:58.651045",
     "status": "completed"
    },
    "tags": []
   },
   "outputs": [
    {
     "data": {
      "text/plain": [
       "(0, 1)"
      ]
     },
     "execution_count": 4,
     "metadata": {},
     "output_type": "execute_result"
    }
   ],
   "source": [
    "train['Fare'].isna().sum(), test['Fare'].isna().sum()"
   ]
  },
  {
   "cell_type": "code",
   "execution_count": 5,
   "id": "0f7a3751",
   "metadata": {
    "execution": {
     "iopub.execute_input": "2024-03-01T17:23:58.681644Z",
     "iopub.status.busy": "2024-03-01T17:23:58.681256Z",
     "iopub.status.idle": "2024-03-01T17:23:58.688662Z",
     "shell.execute_reply": "2024-03-01T17:23:58.687514Z"
    },
    "papermill": {
     "duration": 0.015161,
     "end_time": "2024-03-01T17:23:58.690568",
     "exception": false,
     "start_time": "2024-03-01T17:23:58.675407",
     "status": "completed"
    },
    "tags": []
   },
   "outputs": [
    {
     "data": {
      "text/plain": [
       "(177, 86)"
      ]
     },
     "execution_count": 5,
     "metadata": {},
     "output_type": "execute_result"
    }
   ],
   "source": [
    "train['Age'].isna().sum(), test['Age'].isna().sum()"
   ]
  },
  {
   "cell_type": "code",
   "execution_count": 6,
   "id": "d5168a43",
   "metadata": {
    "execution": {
     "iopub.execute_input": "2024-03-01T17:23:58.701503Z",
     "iopub.status.busy": "2024-03-01T17:23:58.701095Z",
     "iopub.status.idle": "2024-03-01T17:23:58.707282Z",
     "shell.execute_reply": "2024-03-01T17:23:58.706559Z"
    },
    "papermill": {
     "duration": 0.013615,
     "end_time": "2024-03-01T17:23:58.708926",
     "exception": false,
     "start_time": "2024-03-01T17:23:58.695311",
     "status": "completed"
    },
    "tags": []
   },
   "outputs": [
    {
     "data": {
      "text/plain": [
       "(2, 0)"
      ]
     },
     "execution_count": 6,
     "metadata": {},
     "output_type": "execute_result"
    }
   ],
   "source": [
    "train['Embarked'].isna().sum(), test['Embarked'].isna().sum()"
   ]
  },
  {
   "cell_type": "code",
   "execution_count": 7,
   "id": "3c0b754b",
   "metadata": {
    "execution": {
     "iopub.execute_input": "2024-03-01T17:23:58.720648Z",
     "iopub.status.busy": "2024-03-01T17:23:58.720306Z",
     "iopub.status.idle": "2024-03-01T17:23:58.864112Z",
     "shell.execute_reply": "2024-03-01T17:23:58.862507Z"
    },
    "papermill": {
     "duration": 0.152708,
     "end_time": "2024-03-01T17:23:58.866492",
     "exception": false,
     "start_time": "2024-03-01T17:23:58.713784",
     "status": "completed"
    },
    "tags": []
   },
   "outputs": [],
   "source": [
    "train['age_null'] = train['Age'].isna().astype(int)\n",
    "test['age_null'] = test['Age'].isna().astype(int)\n",
    "\n",
    "def fill_age(row):\n",
    "    if row['age_null'] == 1:\n",
    "        return train[train['Pclass'] == row['Pclass']]['Age'].mean()\n",
    "    else:\n",
    "        return row['Age']\n",
    "    \n",
    "train['Age'] = train.apply(fill_age,axis=1)\n",
    "test['Age'] = test.apply(fill_age,axis=1)"
   ]
  },
  {
   "cell_type": "code",
   "execution_count": 8,
   "id": "92bef774",
   "metadata": {
    "execution": {
     "iopub.execute_input": "2024-03-01T17:23:58.879402Z",
     "iopub.status.busy": "2024-03-01T17:23:58.879034Z",
     "iopub.status.idle": "2024-03-01T17:23:58.894383Z",
     "shell.execute_reply": "2024-03-01T17:23:58.892821Z"
    },
    "papermill": {
     "duration": 0.025046,
     "end_time": "2024-03-01T17:23:58.897043",
     "exception": false,
     "start_time": "2024-03-01T17:23:58.871997",
     "status": "completed"
    },
    "tags": []
   },
   "outputs": [],
   "source": [
    "test['fare_null'] = test['Fare'].isna().astype(int)\n",
    "\n",
    "def fill_fare(row):\n",
    "    if row['fare_null'] == 1:\n",
    "        return train[train['Pclass'] == row['Pclass']]['Fare'].mean()\n",
    "    else:\n",
    "        return row['Fare']\n",
    "    \n",
    "test['Fare'] = test.apply(fill_fare,axis=1)"
   ]
  },
  {
   "cell_type": "code",
   "execution_count": 9,
   "id": "0d119f7e",
   "metadata": {
    "execution": {
     "iopub.execute_input": "2024-03-01T17:23:58.908368Z",
     "iopub.status.busy": "2024-03-01T17:23:58.908046Z",
     "iopub.status.idle": "2024-03-01T17:23:58.920738Z",
     "shell.execute_reply": "2024-03-01T17:23:58.919556Z"
    },
    "papermill": {
     "duration": 0.021559,
     "end_time": "2024-03-01T17:23:58.923575",
     "exception": false,
     "start_time": "2024-03-01T17:23:58.902016",
     "status": "completed"
    },
    "tags": []
   },
   "outputs": [],
   "source": [
    "train = train.dropna(subset=['Embarked'])"
   ]
  },
  {
   "cell_type": "code",
   "execution_count": 10,
   "id": "89d4ad55",
   "metadata": {
    "execution": {
     "iopub.execute_input": "2024-03-01T17:23:58.936165Z",
     "iopub.status.busy": "2024-03-01T17:23:58.935791Z",
     "iopub.status.idle": "2024-03-01T17:23:58.957423Z",
     "shell.execute_reply": "2024-03-01T17:23:58.955791Z"
    },
    "papermill": {
     "duration": 0.03135,
     "end_time": "2024-03-01T17:23:58.960223",
     "exception": false,
     "start_time": "2024-03-01T17:23:58.928873",
     "status": "completed"
    },
    "tags": []
   },
   "outputs": [],
   "source": [
    "train['cabin_null'] = train['Cabin'].isna().astype(int)\n",
    "test['cabin_null'] = test['Cabin'].isna().astype(int)\n",
    "\n",
    "def fill_cabin(row):\n",
    "    if row['cabin_null'] == 1:\n",
    "        return \"Yes\"\n",
    "    else:\n",
    "        return \"No\"\n",
    "    \n",
    "train['Cabin'] = train.apply(fill_cabin,axis=1)\n",
    "test['Cabin'] = test.apply(fill_cabin,axis=1)"
   ]
  },
  {
   "cell_type": "code",
   "execution_count": 11,
   "id": "3793e926",
   "metadata": {
    "execution": {
     "iopub.execute_input": "2024-03-01T17:23:58.972031Z",
     "iopub.status.busy": "2024-03-01T17:23:58.971678Z",
     "iopub.status.idle": "2024-03-01T17:24:00.896152Z",
     "shell.execute_reply": "2024-03-01T17:24:00.894261Z"
    },
    "papermill": {
     "duration": 1.933414,
     "end_time": "2024-03-01T17:24:00.898751",
     "exception": false,
     "start_time": "2024-03-01T17:23:58.965337",
     "status": "completed"
    },
    "tags": []
   },
   "outputs": [],
   "source": [
    "from sklearn.linear_model import LogisticRegression\n",
    "from sklearn.neighbors import KNeighborsClassifier\n",
    "from sklearn.tree import DecisionTreeClassifier\n",
    "from sklearn.ensemble import RandomForestClassifier\n",
    "from sklearn.metrics import accuracy_score\n",
    "from sklearn.model_selection import RandomizedSearchCV"
   ]
  },
  {
   "cell_type": "code",
   "execution_count": 12,
   "id": "7bb74cf5",
   "metadata": {
    "execution": {
     "iopub.execute_input": "2024-03-01T17:24:00.910205Z",
     "iopub.status.busy": "2024-03-01T17:24:00.909846Z",
     "iopub.status.idle": "2024-03-01T17:24:00.924023Z",
     "shell.execute_reply": "2024-03-01T17:24:00.922982Z"
    },
    "papermill": {
     "duration": 0.022721,
     "end_time": "2024-03-01T17:24:00.926412",
     "exception": false,
     "start_time": "2024-03-01T17:24:00.903691",
     "status": "completed"
    },
    "tags": []
   },
   "outputs": [],
   "source": [
    "features = [\"Pclass\", \"Sex\", \"SibSp\", \"Parch\", \"Age\", \"Fare\", \"Embarked\",\n",
    "            \"Survived\"]\n",
    "model_test = pd.get_dummies(train[features], drop_first=True)"
   ]
  },
  {
   "cell_type": "code",
   "execution_count": 13,
   "id": "093dfcc6",
   "metadata": {
    "execution": {
     "iopub.execute_input": "2024-03-01T17:24:00.938135Z",
     "iopub.status.busy": "2024-03-01T17:24:00.937562Z",
     "iopub.status.idle": "2024-03-01T17:24:00.948260Z",
     "shell.execute_reply": "2024-03-01T17:24:00.946789Z"
    },
    "papermill": {
     "duration": 0.019692,
     "end_time": "2024-03-01T17:24:00.951047",
     "exception": false,
     "start_time": "2024-03-01T17:24:00.931355",
     "status": "completed"
    },
    "tags": []
   },
   "outputs": [],
   "source": [
    "from sklearn.model_selection import train_test_split\n",
    "X_train, X_test, Y_train, Y_test = train_test_split(model_test.drop(\n",
    "    'Survived', axis=1), model_test['Survived'], test_size=0.2)"
   ]
  },
  {
   "cell_type": "code",
   "execution_count": 14,
   "id": "e0a5a4a0",
   "metadata": {
    "execution": {
     "iopub.execute_input": "2024-03-01T17:24:00.964259Z",
     "iopub.status.busy": "2024-03-01T17:24:00.963563Z",
     "iopub.status.idle": "2024-03-01T17:24:03.462516Z",
     "shell.execute_reply": "2024-03-01T17:24:03.461506Z"
    },
    "papermill": {
     "duration": 2.508371,
     "end_time": "2024-03-01T17:24:03.465484",
     "exception": false,
     "start_time": "2024-03-01T17:24:00.957113",
     "status": "completed"
    },
    "tags": []
   },
   "outputs": [
    {
     "name": "stderr",
     "output_type": "stream",
     "text": [
      "/opt/conda/lib/python3.10/site-packages/sklearn/linear_model/_logistic.py:458: ConvergenceWarning: lbfgs failed to converge (status=1):\n",
      "STOP: TOTAL NO. of ITERATIONS REACHED LIMIT.\n",
      "\n",
      "Increase the number of iterations (max_iter) or scale the data as shown in:\n",
      "    https://scikit-learn.org/stable/modules/preprocessing.html\n",
      "Please also refer to the documentation for alternative solver options:\n",
      "    https://scikit-learn.org/stable/modules/linear_model.html#logistic-regression\n",
      "  n_iter_i = _check_optimize_result(\n",
      "/opt/conda/lib/python3.10/site-packages/sklearn/linear_model/_logistic.py:458: ConvergenceWarning: lbfgs failed to converge (status=1):\n",
      "STOP: TOTAL NO. of ITERATIONS REACHED LIMIT.\n",
      "\n",
      "Increase the number of iterations (max_iter) or scale the data as shown in:\n",
      "    https://scikit-learn.org/stable/modules/preprocessing.html\n",
      "Please also refer to the documentation for alternative solver options:\n",
      "    https://scikit-learn.org/stable/modules/linear_model.html#logistic-regression\n",
      "  n_iter_i = _check_optimize_result(\n",
      "/opt/conda/lib/python3.10/site-packages/sklearn/linear_model/_logistic.py:458: ConvergenceWarning: lbfgs failed to converge (status=1):\n",
      "STOP: TOTAL NO. of ITERATIONS REACHED LIMIT.\n",
      "\n",
      "Increase the number of iterations (max_iter) or scale the data as shown in:\n",
      "    https://scikit-learn.org/stable/modules/preprocessing.html\n",
      "Please also refer to the documentation for alternative solver options:\n",
      "    https://scikit-learn.org/stable/modules/linear_model.html#logistic-regression\n",
      "  n_iter_i = _check_optimize_result(\n",
      "/opt/conda/lib/python3.10/site-packages/sklearn/linear_model/_logistic.py:458: ConvergenceWarning: lbfgs failed to converge (status=1):\n",
      "STOP: TOTAL NO. of ITERATIONS REACHED LIMIT.\n",
      "\n",
      "Increase the number of iterations (max_iter) or scale the data as shown in:\n",
      "    https://scikit-learn.org/stable/modules/preprocessing.html\n",
      "Please also refer to the documentation for alternative solver options:\n",
      "    https://scikit-learn.org/stable/modules/linear_model.html#logistic-regression\n",
      "  n_iter_i = _check_optimize_result(\n",
      "/opt/conda/lib/python3.10/site-packages/sklearn/linear_model/_logistic.py:458: ConvergenceWarning: lbfgs failed to converge (status=1):\n",
      "STOP: TOTAL NO. of ITERATIONS REACHED LIMIT.\n",
      "\n",
      "Increase the number of iterations (max_iter) or scale the data as shown in:\n",
      "    https://scikit-learn.org/stable/modules/preprocessing.html\n",
      "Please also refer to the documentation for alternative solver options:\n",
      "    https://scikit-learn.org/stable/modules/linear_model.html#logistic-regression\n",
      "  n_iter_i = _check_optimize_result(\n",
      "/opt/conda/lib/python3.10/site-packages/sklearn/linear_model/_logistic.py:458: ConvergenceWarning: lbfgs failed to converge (status=1):\n",
      "STOP: TOTAL NO. of ITERATIONS REACHED LIMIT.\n",
      "\n",
      "Increase the number of iterations (max_iter) or scale the data as shown in:\n",
      "    https://scikit-learn.org/stable/modules/preprocessing.html\n",
      "Please also refer to the documentation for alternative solver options:\n",
      "    https://scikit-learn.org/stable/modules/linear_model.html#logistic-regression\n",
      "  n_iter_i = _check_optimize_result(\n"
     ]
    },
    {
     "name": "stdout",
     "output_type": "stream",
     "text": [
      "Using LogisticRegression(), we see a score of 0.797752808988764\n"
     ]
    },
    {
     "name": "stderr",
     "output_type": "stream",
     "text": [
      "/opt/conda/lib/python3.10/site-packages/sklearn/linear_model/_logistic.py:458: ConvergenceWarning: lbfgs failed to converge (status=1):\n",
      "STOP: TOTAL NO. of ITERATIONS REACHED LIMIT.\n",
      "\n",
      "Increase the number of iterations (max_iter) or scale the data as shown in:\n",
      "    https://scikit-learn.org/stable/modules/preprocessing.html\n",
      "Please also refer to the documentation for alternative solver options:\n",
      "    https://scikit-learn.org/stable/modules/linear_model.html#logistic-regression\n",
      "  n_iter_i = _check_optimize_result(\n",
      "/opt/conda/lib/python3.10/site-packages/sklearn/linear_model/_logistic.py:458: ConvergenceWarning: lbfgs failed to converge (status=1):\n",
      "STOP: TOTAL NO. of ITERATIONS REACHED LIMIT.\n",
      "\n",
      "Increase the number of iterations (max_iter) or scale the data as shown in:\n",
      "    https://scikit-learn.org/stable/modules/preprocessing.html\n",
      "Please also refer to the documentation for alternative solver options:\n",
      "    https://scikit-learn.org/stable/modules/linear_model.html#logistic-regression\n",
      "  n_iter_i = _check_optimize_result(\n",
      "/opt/conda/lib/python3.10/site-packages/sklearn/linear_model/_logistic.py:458: ConvergenceWarning: lbfgs failed to converge (status=1):\n",
      "STOP: TOTAL NO. of ITERATIONS REACHED LIMIT.\n",
      "\n",
      "Increase the number of iterations (max_iter) or scale the data as shown in:\n",
      "    https://scikit-learn.org/stable/modules/preprocessing.html\n",
      "Please also refer to the documentation for alternative solver options:\n",
      "    https://scikit-learn.org/stable/modules/linear_model.html#logistic-regression\n",
      "  n_iter_i = _check_optimize_result(\n",
      "/opt/conda/lib/python3.10/site-packages/sklearn/linear_model/_logistic.py:458: ConvergenceWarning: lbfgs failed to converge (status=1):\n",
      "STOP: TOTAL NO. of ITERATIONS REACHED LIMIT.\n",
      "\n",
      "Increase the number of iterations (max_iter) or scale the data as shown in:\n",
      "    https://scikit-learn.org/stable/modules/preprocessing.html\n",
      "Please also refer to the documentation for alternative solver options:\n",
      "    https://scikit-learn.org/stable/modules/linear_model.html#logistic-regression\n",
      "  n_iter_i = _check_optimize_result(\n",
      "/opt/conda/lib/python3.10/site-packages/sklearn/linear_model/_logistic.py:458: ConvergenceWarning: lbfgs failed to converge (status=1):\n",
      "STOP: TOTAL NO. of ITERATIONS REACHED LIMIT.\n",
      "\n",
      "Increase the number of iterations (max_iter) or scale the data as shown in:\n",
      "    https://scikit-learn.org/stable/modules/preprocessing.html\n",
      "Please also refer to the documentation for alternative solver options:\n",
      "    https://scikit-learn.org/stable/modules/linear_model.html#logistic-regression\n",
      "  n_iter_i = _check_optimize_result(\n",
      "/opt/conda/lib/python3.10/site-packages/sklearn/model_selection/_validation.py:378: FitFailedWarning: \n",
      "25 fits failed out of a total of 50.\n",
      "The score on these train-test partitions for these parameters will be set to nan.\n",
      "If these failures are not expected, you can try to debug them by setting error_score='raise'.\n",
      "\n",
      "Below are more details about the failures:\n",
      "--------------------------------------------------------------------------------\n",
      "25 fits failed with the following error:\n",
      "Traceback (most recent call last):\n",
      "  File \"/opt/conda/lib/python3.10/site-packages/sklearn/model_selection/_validation.py\", line 686, in _fit_and_score\n",
      "    estimator.fit(X_train, y_train, **fit_params)\n",
      "  File \"/opt/conda/lib/python3.10/site-packages/sklearn/linear_model/_logistic.py\", line 1162, in fit\n",
      "    solver = _check_solver(self.solver, self.penalty, self.dual)\n",
      "  File \"/opt/conda/lib/python3.10/site-packages/sklearn/linear_model/_logistic.py\", line 54, in _check_solver\n",
      "    raise ValueError(\n",
      "ValueError: Solver lbfgs supports only 'l2' or 'none' penalties, got l1 penalty.\n",
      "\n",
      "  warnings.warn(some_fits_failed_message, FitFailedWarning)\n",
      "/opt/conda/lib/python3.10/site-packages/sklearn/model_selection/_search.py:952: UserWarning: One or more of the test scores are non-finite: [       nan        nan 0.78341377        nan 0.78341377 0.73135034\n",
      "        nan        nan 0.80454053 0.70883483]\n",
      "  warnings.warn(\n",
      "/opt/conda/lib/python3.10/site-packages/sklearn/linear_model/_logistic.py:458: ConvergenceWarning: lbfgs failed to converge (status=1):\n",
      "STOP: TOTAL NO. of ITERATIONS REACHED LIMIT.\n",
      "\n",
      "Increase the number of iterations (max_iter) or scale the data as shown in:\n",
      "    https://scikit-learn.org/stable/modules/preprocessing.html\n",
      "Please also refer to the documentation for alternative solver options:\n",
      "    https://scikit-learn.org/stable/modules/linear_model.html#logistic-regression\n",
      "  n_iter_i = _check_optimize_result(\n"
     ]
    },
    {
     "name": "stdout",
     "output_type": "stream",
     "text": [
      "{'penalty': 'l2', 'fit_intercept': True, 'C': 187.3817422860383}\n",
      "Using LogisticRegression(), we see a score of 0.797752808988764\n",
      "Using KNeighborsClassifier(), we see a score of 0.6685393258426966\n",
      "{'weights': 'distance', 'n_neighbors': 14, 'metric': 'manhattan', 'algorithm': 'ball_tree'}\n",
      "Using KNeighborsClassifier(), we see a score of 0.6629213483146067\n",
      "Using DecisionTreeClassifier(), we see a score of 0.7921348314606742\n",
      "{'splitter': 'best', 'min_samples_split': 2, 'max_depth': 6, 'criterion': 'entropy'}\n",
      "Using DecisionTreeClassifier(), we see a score of 0.8426966292134831\n",
      "Using RandomForestClassifier(), we see a score of 0.797752808988764\n"
     ]
    },
    {
     "name": "stderr",
     "output_type": "stream",
     "text": [
      "/opt/conda/lib/python3.10/site-packages/sklearn/model_selection/_search.py:305: UserWarning: The total space of parameters 1 is smaller than n_iter=10. Running 1 iterations. For exhaustive searches, use GridSearchCV.\n",
      "  warnings.warn(\n"
     ]
    },
    {
     "name": "stdout",
     "output_type": "stream",
     "text": [
      "{}\n",
      "Using RandomForestClassifier(), we see a score of 0.7921348314606742\n"
     ]
    }
   ],
   "source": [
    "pgrid = {'LogisticRegression()': {\n",
    "    'penalty': ['l1','l2'],\n",
    "    'C': np.logspace(-5,5,12),\n",
    "    'fit_intercept': [True,False],\n",
    "    },\n",
    "        'KNeighborsClassifier()': {\n",
    "    'n_neighbors': range(3,20),\n",
    "    'weights': ['uniform', 'distance'],\n",
    "    'algorithm': ['auto', 'ball_tree', 'kd_tree', 'brute'],\n",
    "    'metric': ['manhattan', 'minkowski'],\n",
    "    },\n",
    "        'DecisionTreeClassifier()': {\n",
    "    'criterion': ['gini', 'entropy'],\n",
    "    'splitter': ['best', 'random'],\n",
    "    'max_depth': [3,4,6,7,9],\n",
    "    'min_samples_split': range(2,5),\n",
    "    },\n",
    "        'RandomForestClassifier()': {\n",
    "            \n",
    "    }}\n",
    "scores = {'Model': [], 'Score': [], 'Params': []}\n",
    "for ml_model in ['LogisticRegression()', 'KNeighborsClassifier()',\n",
    "              'DecisionTreeClassifier()', 'RandomForestClassifier()']:\n",
    "    model = eval(ml_model)\n",
    "    model.fit(X_train, Y_train)\n",
    "    predictions = model.predict(X_test)\n",
    "    pred_score = accuracy_score(Y_test, predictions)\n",
    "    print(f\"Using {ml_model}, we see a score of {pred_score}\")\n",
    "    scores['Model'].append(ml_model)\n",
    "    scores['Score'].append(pred_score)\n",
    "    scores['Params'].append(dict())\n",
    "    rs = RandomizedSearchCV(model, pgrid[ml_model])\n",
    "    rs.fit(X_train, Y_train)\n",
    "    print(rs.best_params_)\n",
    "    predictions = rs.predict(X_test)\n",
    "    pred_score = accuracy_score(Y_test, predictions)\n",
    "    print(f\"Using {model}, we see a score of {pred_score}\")\n",
    "    scores['Model'].append(ml_model)\n",
    "    scores['Score'].append(pred_score)\n",
    "    scores['Params'].append(rs.best_params_)"
   ]
  },
  {
   "cell_type": "code",
   "execution_count": 15,
   "id": "a0d4db4f",
   "metadata": {
    "execution": {
     "iopub.execute_input": "2024-03-01T17:24:03.479056Z",
     "iopub.status.busy": "2024-03-01T17:24:03.478279Z",
     "iopub.status.idle": "2024-03-01T17:24:03.489232Z",
     "shell.execute_reply": "2024-03-01T17:24:03.487475Z"
    },
    "papermill": {
     "duration": 0.020542,
     "end_time": "2024-03-01T17:24:03.491876",
     "exception": false,
     "start_time": "2024-03-01T17:24:03.471334",
     "status": "completed"
    },
    "tags": []
   },
   "outputs": [
    {
     "data": {
      "text/plain": [
       "('DecisionTreeClassifier()',\n",
       " {'splitter': 'best',\n",
       "  'min_samples_split': 2,\n",
       "  'max_depth': 6,\n",
       "  'criterion': 'entropy'})"
      ]
     },
     "execution_count": 15,
     "metadata": {},
     "output_type": "execute_result"
    }
   ],
   "source": [
    "score_df = pd.DataFrame(scores)\n",
    "max_score = score_df['Score'].max()\n",
    "pick = score_df[score_df['Score'] == max_score].reset_index(drop=True)\n",
    "model_sel = pick['Model'].iloc[0]\n",
    "model_params = pick['Params'].iloc[0]\n",
    "model_sel, model_params"
   ]
  },
  {
   "cell_type": "code",
   "execution_count": 16,
   "id": "9f5ee485",
   "metadata": {
    "execution": {
     "iopub.execute_input": "2024-03-01T17:24:03.504909Z",
     "iopub.status.busy": "2024-03-01T17:24:03.504498Z",
     "iopub.status.idle": "2024-03-01T17:24:03.531570Z",
     "shell.execute_reply": "2024-03-01T17:24:03.529933Z"
    },
    "papermill": {
     "duration": 0.036086,
     "end_time": "2024-03-01T17:24:03.533647",
     "exception": false,
     "start_time": "2024-03-01T17:24:03.497561",
     "status": "completed"
    },
    "tags": []
   },
   "outputs": [
    {
     "name": "stdout",
     "output_type": "stream",
     "text": [
      "Your submission was successfully saved!\n"
     ]
    }
   ],
   "source": [
    "ml_dict = {\n",
    "    'LogisticRegression()': LogisticRegression,\n",
    "    'KNeighborsClassifier()': KNeighborsClassifier,\n",
    "    'DecisionTreeClassifier()': DecisionTreeClassifier,\n",
    "    'RandomForestClassifier()': RandomForestClassifier,\n",
    "          }\n",
    "\n",
    "def compile_function(model, params):\n",
    "    param_str = \"\"\n",
    "    for k,v in params.items():\n",
    "        if isinstance(v, int):\n",
    "            param_str += f'{k}={v}, '\n",
    "        else:\n",
    "            param_str += f'{k}=\"{v}\", '\n",
    "    param_str = param_str[:-2]\n",
    "    return f'{model[:-1]}{param_str})'\n",
    "\n",
    "y = train[\"Survived\"]\n",
    "features = [\"Pclass\", \"Sex\", \"SibSp\", \"Parch\", \"Age\", \"Fare\", \"Embarked\"]\n",
    "X = pd.get_dummies(train[features])\n",
    "X_test = pd.get_dummies(test[features])\n",
    "\n",
    "rs = RandomizedSearchCV(eval(model_sel), model_params)\n",
    "x = compile_function(model_sel, model_params)\n",
    "model = eval(x)\n",
    "model.fit(X, y)\n",
    "predictions = model.predict(X_test)\n",
    "\n",
    "output = pd.DataFrame({'PassengerId': test.PassengerId,\n",
    "                       'Survived': predictions})\n",
    "output.to_csv('submission.csv', index=False)\n",
    "print(\"Your submission was successfully saved!\")"
   ]
  },
  {
   "cell_type": "code",
   "execution_count": 17,
   "id": "bea67f0f",
   "metadata": {
    "execution": {
     "iopub.execute_input": "2024-03-01T17:24:03.546313Z",
     "iopub.status.busy": "2024-03-01T17:24:03.545958Z",
     "iopub.status.idle": "2024-03-01T17:24:03.560253Z",
     "shell.execute_reply": "2024-03-01T17:24:03.558918Z"
    },
    "papermill": {
     "duration": 0.023736,
     "end_time": "2024-03-01T17:24:03.562923",
     "exception": false,
     "start_time": "2024-03-01T17:24:03.539187",
     "status": "completed"
    },
    "tags": []
   },
   "outputs": [
    {
     "data": {
      "text/html": [
       "<div>\n",
       "<style scoped>\n",
       "    .dataframe tbody tr th:only-of-type {\n",
       "        vertical-align: middle;\n",
       "    }\n",
       "\n",
       "    .dataframe tbody tr th {\n",
       "        vertical-align: top;\n",
       "    }\n",
       "\n",
       "    .dataframe thead th {\n",
       "        text-align: right;\n",
       "    }\n",
       "</style>\n",
       "<table border=\"1\" class=\"dataframe\">\n",
       "  <thead>\n",
       "    <tr style=\"text-align: right;\">\n",
       "      <th></th>\n",
       "      <th>PassengerId</th>\n",
       "      <th>Survived</th>\n",
       "    </tr>\n",
       "  </thead>\n",
       "  <tbody>\n",
       "    <tr>\n",
       "      <th>0</th>\n",
       "      <td>892</td>\n",
       "      <td>0</td>\n",
       "    </tr>\n",
       "    <tr>\n",
       "      <th>1</th>\n",
       "      <td>893</td>\n",
       "      <td>0</td>\n",
       "    </tr>\n",
       "    <tr>\n",
       "      <th>2</th>\n",
       "      <td>894</td>\n",
       "      <td>0</td>\n",
       "    </tr>\n",
       "    <tr>\n",
       "      <th>3</th>\n",
       "      <td>895</td>\n",
       "      <td>0</td>\n",
       "    </tr>\n",
       "    <tr>\n",
       "      <th>4</th>\n",
       "      <td>896</td>\n",
       "      <td>1</td>\n",
       "    </tr>\n",
       "    <tr>\n",
       "      <th>...</th>\n",
       "      <td>...</td>\n",
       "      <td>...</td>\n",
       "    </tr>\n",
       "    <tr>\n",
       "      <th>413</th>\n",
       "      <td>1305</td>\n",
       "      <td>0</td>\n",
       "    </tr>\n",
       "    <tr>\n",
       "      <th>414</th>\n",
       "      <td>1306</td>\n",
       "      <td>1</td>\n",
       "    </tr>\n",
       "    <tr>\n",
       "      <th>415</th>\n",
       "      <td>1307</td>\n",
       "      <td>0</td>\n",
       "    </tr>\n",
       "    <tr>\n",
       "      <th>416</th>\n",
       "      <td>1308</td>\n",
       "      <td>0</td>\n",
       "    </tr>\n",
       "    <tr>\n",
       "      <th>417</th>\n",
       "      <td>1309</td>\n",
       "      <td>0</td>\n",
       "    </tr>\n",
       "  </tbody>\n",
       "</table>\n",
       "<p>418 rows × 2 columns</p>\n",
       "</div>"
      ],
      "text/plain": [
       "     PassengerId  Survived\n",
       "0            892         0\n",
       "1            893         0\n",
       "2            894         0\n",
       "3            895         0\n",
       "4            896         1\n",
       "..           ...       ...\n",
       "413         1305         0\n",
       "414         1306         1\n",
       "415         1307         0\n",
       "416         1308         0\n",
       "417         1309         0\n",
       "\n",
       "[418 rows x 2 columns]"
      ]
     },
     "execution_count": 17,
     "metadata": {},
     "output_type": "execute_result"
    }
   ],
   "source": [
    "output"
   ]
  },
  {
   "cell_type": "code",
   "execution_count": null,
   "id": "a368a5b3",
   "metadata": {
    "papermill": {
     "duration": 0.00589,
     "end_time": "2024-03-01T17:24:03.574802",
     "exception": false,
     "start_time": "2024-03-01T17:24:03.568912",
     "status": "completed"
    },
    "tags": []
   },
   "outputs": [],
   "source": []
  }
 ],
 "metadata": {
  "kaggle": {
   "accelerator": "none",
   "dataSources": [
    {
     "databundleVersionId": 26502,
     "sourceId": 3136,
     "sourceType": "competition"
    }
   ],
   "dockerImageVersionId": 30664,
   "isGpuEnabled": false,
   "isInternetEnabled": true,
   "language": "python",
   "sourceType": "notebook"
  },
  "kernelspec": {
   "display_name": "Python 3",
   "language": "python",
   "name": "python3"
  },
  "language_info": {
   "codemirror_mode": {
    "name": "ipython",
    "version": 3
   },
   "file_extension": ".py",
   "mimetype": "text/x-python",
   "name": "python",
   "nbconvert_exporter": "python",
   "pygments_lexer": "ipython3",
   "version": "3.10.13"
  },
  "papermill": {
   "default_parameters": {},
   "duration": 9.139584,
   "end_time": "2024-03-01T17:24:04.200964",
   "environment_variables": {},
   "exception": null,
   "input_path": "__notebook__.ipynb",
   "output_path": "__notebook__.ipynb",
   "parameters": {},
   "start_time": "2024-03-01T17:23:55.061380",
   "version": "2.5.0"
  }
 },
 "nbformat": 4,
 "nbformat_minor": 5
}
